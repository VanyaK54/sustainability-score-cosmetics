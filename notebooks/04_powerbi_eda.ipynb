{
 "cells": [
  {
   "cell_type": "code",
   "execution_count": null,
   "id": "33b6d3e6",
   "metadata": {
    "vscode": {
     "languageId": "plaintext"
    }
   },
   "outputs": [],
   "source": [
    "# Cell 1: Import and view data\n",
    "import pandas as pd\n",
    "import matplotlib.pyplot as plt\n",
    "\n",
    "df = pd.read_csv(\"../data/processed/cleaned_products.csv\")\n",
    "df.head()\n",
    "\n",
    "# Cell 2: Basic EDA\n",
    "df.plot(kind=\"bar\", x=\"product_id\", y=\"sustainability_score\", title=\"Sustainability Score per Product\")\n",
    "plt.show()\n",
    "\n",
    "# Cell 3: Export for Power BI\n",
    "df.to_csv(\"../outputs/reports/powerbi_input.csv\", index=False)\n"
   ]
  }
 ],
 "metadata": {
  "language_info": {
   "name": "python"
  }
 },
 "nbformat": 4,
 "nbformat_minor": 5
}
