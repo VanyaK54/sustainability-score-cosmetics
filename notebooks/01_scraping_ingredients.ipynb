{
 "cells": [
  {
   "cell_type": "code",
   "execution_count": null,
   "id": "3a15f820",
   "metadata": {
    "vscode": {
     "languageId": "plaintext"
    }
   },
   "outputs": [],
   "source": [
    "# Cell 1: Import libraries\n",
    "import requests\n",
    "from bs4 import BeautifulSoup\n",
    "import pandas as pd\n",
    "import time\n",
    "\n",
    "# Cell 2: Define target URLs\n",
    "urls = [\n",
    "    \"https://example.com/herbal-moisturizer\",\n",
    "    \"https://example.com/vegan-face-cream\",\n",
    "    \"https://example.com/natural-serum\"\n",
    "]\n",
    "\n",
    "# Cell 3: Scraping logic\n",
    "data = []\n",
    "for url in urls:\n",
    "    res = requests.get(url)\n",
    "    soup = BeautifulSoup(res.text, 'html.parser')\n",
    "    \n",
    "    # Simulate extraction\n",
    "    product_name = soup.title.string if soup.title else \"Sample Product\"\n",
    "    ingredients = \"Aqua, Glycerin, Aloe Barbadensis Leaf Juice, Sodium Benzoate\"\n",
    "    packaging = \"Recyclable Plastic\"\n",
    "    \n",
    "    data.append({\n",
    "        \"product_name\": product_name,\n",
    "        \"ingredients_list\": ingredients,\n",
    "        \"packaging_material\": packaging,\n",
    "        \"product_url\": url\n",
    "    })\n",
    "    time.sleep(1)\n",
    "\n",
    "# Cell 4: Save DataFrame\n",
    "df = pd.DataFrame(data)\n",
    "df.insert(0, \"product_id\", range(101, 101 + len(df)))\n",
    "df.to_csv(\"../data/raw/ingredients_scraped.csv\", index=False)\n",
    "df.head()\n"
   ]
  }
 ],
 "metadata": {
  "language_info": {
   "name": "python"
  }
 },
 "nbformat": 4,
 "nbformat_minor": 5
}
