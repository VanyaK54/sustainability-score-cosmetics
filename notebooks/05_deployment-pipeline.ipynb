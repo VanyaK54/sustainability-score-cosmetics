{
 "cells": [
  {
   "cell_type": "code",
   "execution_count": null,
   "id": "7e21e0f5",
   "metadata": {
    "vscode": {
     "languageId": "plaintext"
    }
   },
   "outputs": [],
   "source": [
    "# Cell 1: Load libraries\n",
    "import joblib\n",
    "import pandas as pd\n",
    "from azure.storage.blob import BlobServiceClient\n",
    "import pyodbc\n",
    "\n",
    "# Cell 2: Load model and new data\n",
    "model = joblib.load(\"../models/sustainability_model.pkl\")\n",
    "new_data = pd.read_csv(\"../data/processed/cleaned_products.csv\")[['ingredient_score', 'packaging_score']]\n",
    "new_scores = model.predict(new_data)\n",
    "\n",
    "# Cell 3: Azure Blob upload (sample placeholder)\n",
    "blob_service_client = BlobServiceClient.from_connection_string(\"YOUR_CONNECTION_STRING\")\n",
    "blob_client = blob_service_client.get_blob_client(container=\"sustainability\", blob=\"scored_data.csv\")\n",
    "with open(\"../outputs/reports/powerbi_input.csv\", \"rb\") as data:\n",
    "    blob_client.upload_blob(data, overwrite=True)\n",
    "\n",
    "# Cell 4: Azure SQL insert (example)\n",
    "conn = pyodbc.connect(\"DRIVER={ODBC Driver 17 for SQL Server};SERVER=your_server;DATABASE=your_db;UID=user;PWD=pwd\")\n",
    "cursor = conn.cursor()\n",
    "for i, row in df.iterrows():\n",
    "    cursor.execute(\"INSERT INTO sustainability_scores VALUES (?, ?, ?, ?)\", row.product_id, row.ingredient_score, row.packaging_score, row.sustainability_score)\n",
    "conn.commit()\n",
    "cursor.close()\n",
    "conn.close()\n"
   ]
  }
 ],
 "metadata": {
  "language_info": {
   "name": "python"
  }
 },
 "nbformat": 4,
 "nbformat_minor": 5
}
