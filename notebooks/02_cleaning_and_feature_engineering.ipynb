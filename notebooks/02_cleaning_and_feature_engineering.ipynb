{
 "cells": [
  {
   "cell_type": "code",
   "execution_count": null,
   "id": "96520ca6",
   "metadata": {
    "vscode": {
     "languageId": "plaintext"
    }
   },
   "outputs": [],
   "source": [
    "# Cell 1: Import libraries\n",
    "import pandas as pd\n",
    "import numpy as np\n",
    "\n",
    "# Cell 2: Load raw data and reference\n",
    "df = pd.read_csv(\"../data/raw/ingredients_scraped.csv\")\n",
    "ref = pd.read_csv(\"../data/external/eco_impact_reference.csv\")\n",
    "\n",
    "# Cell 3: Preprocess ingredients\n",
    "def compute_ingredient_score(ingredients):\n",
    "    ing_list = [x.strip() for x in ingredients.split(',')]\n",
    "    scores = []\n",
    "    for ing in ing_list:\n",
    "        match = ref[ref['chemical_name'].str.lower() == ing.lower()]\n",
    "        if not match.empty:\n",
    "            scores.append(match.iloc[0]['eco_rating'])\n",
    "        else:\n",
    "            scores.append(5)  # neutral if unknown\n",
    "    return round(np.mean(scores), 2)\n",
    "\n",
    "df['ingredient_score'] = df['ingredients_list'].apply(compute_ingredient_score)\n",
    "\n",
    "# Cell 4: Packaging scoring logic\n",
    "packaging_score_map = {\n",
    "    'Recyclable Plastic': 9,\n",
    "    'Glass Jar': 8,\n",
    "    'Plastic Tube': 5,\n",
    "    'Recycled PET Bottle': 8,\n",
    "    'Biodegradable Pouch': 9\n",
    "}\n",
    "df['packaging_score'] = df['packaging_material'].map(packaging_score_map).fillna(6)\n",
    "\n",
    "# Cell 5: Sustainability Score\n",
    "df['sustainability_score'] = round((df['ingredient_score'] + df['packaging_score']) / 2, 2)\n",
    "\n",
    "# Cell 6: Save processed data\n",
    "processed = df[['product_id', 'product_name', 'ingredient_score', 'packaging_score', 'sustainability_score']]\n",
    "processed.to_csv(\"../data/processed/cleaned_products.csv\", index=False)\n",
    "processed.head()\n"
   ]
  }
 ],
 "metadata": {
  "language_info": {
   "name": "python"
  }
 },
 "nbformat": 4,
 "nbformat_minor": 5
}
